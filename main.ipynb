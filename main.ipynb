{
 "cells": [
  {
   "cell_type": "code",
   "execution_count": 43,
   "metadata": {},
   "outputs": [],
   "source": [
    "import cv2\n",
    "import numpy as np\n",
    "import pytesseract "
   ]
  },
  {
   "cell_type": "code",
   "execution_count": 44,
   "metadata": {},
   "outputs": [],
   "source": [
    "def imageShow(imagem):\n",
    "    cv2.imshow('Placa 01',imagem)\n",
    "    cv2.waitKey(0)\n",
    "    cv2.destroyAllWindows()"
   ]
  },
  {
   "cell_type": "code",
   "execution_count": 45,
   "metadata": {},
   "outputs": [],
   "source": [
    "img = cv2.imread(\"placa.jpg\")\n",
    "imageShow(img)"
   ]
  },
  {
   "cell_type": "code",
   "execution_count": 46,
   "metadata": {},
   "outputs": [],
   "source": [
    "gray = cv2.cvtColor(img, cv2.COLOR_RGB2GRAY)\n",
    "_,gray = cv2.threshold(gray,0,255,cv2.THRESH_BINARY_INV+cv2.THRESH_OTSU)"
   ]
  },
  {
   "cell_type": "code",
   "execution_count": 47,
   "metadata": {},
   "outputs": [],
   "source": [
    "imageShow(gray)"
   ]
  },
  {
   "cell_type": "code",
   "execution_count": 48,
   "metadata": {},
   "outputs": [],
   "source": [
    "path = \"C:/Users/IFCE-Lab4/Desktop/PlacaPDI/tesseract.exe\"\n",
    "pytesseract.pytesseract.tesseract_cmd = path\n",
    "config = r\"--oem 1 --psm 11\""
   ]
  },
  {
   "cell_type": "code",
   "execution_count": 49,
   "metadata": {},
   "outputs": [
    {
     "name": "stdout",
     "output_type": "stream",
     "text": [
      "- KS\n",
      "\n",
      "i aaa\n",
      "\n",
      "——_\n",
      "\n",
      "—\n",
      "\n",
      "att\n",
      "\n",
      "+\n",
      "\n",
      "BRASIL\n",
      "\n",
      "MERCOSUL\n",
      "\n",
      "FJ\n",
      "\n",
      "B4E12\n",
      "\n",
      "BR\n",
      "\n",
      "_ eee\n",
      "\n",
      "eee\n",
      "\n"
     ]
    }
   ],
   "source": [
    "string =  pytesseract.image_to_string(gray, config=config)\n",
    "print(string)"
   ]
  },
  {
   "cell_type": "code",
   "execution_count": 50,
   "metadata": {},
   "outputs": [
    {
     "name": "stdout",
     "output_type": "stream",
     "text": [
      "- 1126 1072 1143 1080 0\n",
      "K 1182 1056 1197 1080 0\n",
      "S 1172 1056 1228 1080 0\n",
      "i 984 1030 989 1049 0\n",
      "a 1011 1010 1037 1053 0\n",
      "a 1015 1014 1176 1043 0\n",
      "a 1100 1010 1180 1053 0\n",
      "— 239 839 328 842 0\n",
      "— 288 839 308 842 0\n",
      "_ 307 839 328 842 0\n",
      "— 1496 764 1559 767 0\n",
      "a 375 657 389 670 0\n",
      "t 391 672 405 685 0\n",
      "t 411 663 425 677 0\n",
      "+ 400 630 415 641 0\n",
      "B 984 617 1017 671 0\n",
      "R 1031 619 1064 688 0\n",
      "A 1074 621 1109 675 0\n",
      "S 1097 617 1133 715 0\n",
      "I 1121 623 1172 678 0\n",
      "L 1173 626 1237 715 0\n",
      "M 343 582 361 602 0\n",
      "E 365 584 377 602 0\n",
      "R 381 584 396 603 0\n",
      "C 398 586 415 604 0\n",
      "O 418 586 436 605 0\n",
      "S 440 587 451 605 0\n",
      "U 454 588 470 606 0\n",
      "L 475 589 486 606 0\n",
      "F 448 278 604 542 0\n",
      "J 658 300 803 551 0\n",
      "B 846 313 981 558 0\n",
      "4 1022 335 1145 568 0\n",
      "E 1183 343 1317 580 0\n",
      "1 1344 355 1458 587 0\n",
      "2 1498 368 1625 594 0\n",
      "B 317 238 364 315 0\n",
      "R 365 243 413 319 0\n",
      "_ 1465 185 1542 256 0\n",
      "e 1583 185 1637 256 0\n",
      "e 1583 194 1840 252 0\n",
      "e 1660 185 1844 256 0\n",
      "e 1650 0 1919 48 0\n",
      "e 1836 0 1876 52 0\n",
      "e 1875 0 1919 52 0\n",
      "\n"
     ]
    }
   ],
   "source": [
    "string0 =  pytesseract.image_to_boxes(gray, config=config)\n",
    "print(string0)"
   ]
  },
  {
   "cell_type": "code",
   "execution_count": 51,
   "metadata": {},
   "outputs": [
    {
     "name": "stdout",
     "output_type": "stream",
     "text": [
      "H: 1080\n",
      "W: 1920\n"
     ]
    }
   ],
   "source": [
    "imH, imW = gray.shape\n",
    "print(f'H: {imH}\\nW: {imW}')"
   ]
  },
  {
   "cell_type": "code",
   "execution_count": 53,
   "metadata": {},
   "outputs": [
    {
     "name": "stdout",
     "output_type": "stream",
     "text": [
      "Letra: -, X: 1126, Y: 1072, W: 1143, H: 1080\n",
      "Letra: K, X: 1182, Y: 1056, W: 1197, H: 1080\n",
      "Letra: S, X: 1172, Y: 1056, W: 1228, H: 1080\n",
      "Letra: i, X: 984, Y: 1030, W: 989, H: 1049\n",
      "Letra: a, X: 1011, Y: 1010, W: 1037, H: 1053\n",
      "Letra: a, X: 1015, Y: 1014, W: 1176, H: 1043\n",
      "Letra: a, X: 1100, Y: 1010, W: 1180, H: 1053\n",
      "Letra: —, X: 239, Y: 839, W: 328, H: 842\n",
      "Letra: —, X: 288, Y: 839, W: 308, H: 842\n",
      "Letra: _, X: 307, Y: 839, W: 328, H: 842\n",
      "Letra: —, X: 1496, Y: 764, W: 1559, H: 767\n",
      "Letra: a, X: 375, Y: 657, W: 389, H: 670\n",
      "Letra: t, X: 391, Y: 672, W: 405, H: 685\n",
      "Letra: t, X: 411, Y: 663, W: 425, H: 677\n",
      "Letra: +, X: 400, Y: 630, W: 415, H: 641\n",
      "Letra: B, X: 984, Y: 617, W: 1017, H: 671\n",
      "Letra: R, X: 1031, Y: 619, W: 1064, H: 688\n",
      "Letra: A, X: 1074, Y: 621, W: 1109, H: 675\n",
      "Letra: S, X: 1097, Y: 617, W: 1133, H: 715\n",
      "Letra: I, X: 1121, Y: 623, W: 1172, H: 678\n",
      "Letra: L, X: 1173, Y: 626, W: 1237, H: 715\n",
      "Letra: M, X: 343, Y: 582, W: 361, H: 602\n",
      "Letra: E, X: 365, Y: 584, W: 377, H: 602\n",
      "Letra: R, X: 381, Y: 584, W: 396, H: 603\n",
      "Letra: C, X: 398, Y: 586, W: 415, H: 604\n",
      "Letra: O, X: 418, Y: 586, W: 436, H: 605\n",
      "Letra: S, X: 440, Y: 587, W: 451, H: 605\n",
      "Letra: U, X: 454, Y: 588, W: 470, H: 606\n",
      "Letra: L, X: 475, Y: 589, W: 486, H: 606\n",
      "Letra: F, X: 448, Y: 278, W: 604, H: 542\n",
      "Letra: J, X: 658, Y: 300, W: 803, H: 551\n",
      "Letra: B, X: 846, Y: 313, W: 981, H: 558\n",
      "Letra: 4, X: 1022, Y: 335, W: 1145, H: 568\n",
      "Letra: E, X: 1183, Y: 343, W: 1317, H: 580\n",
      "Letra: 1, X: 1344, Y: 355, W: 1458, H: 587\n",
      "Letra: 2, X: 1498, Y: 368, W: 1625, H: 594\n",
      "Letra: B, X: 317, Y: 238, W: 364, H: 315\n",
      "Letra: R, X: 365, Y: 243, W: 413, H: 319\n",
      "Letra: _, X: 1465, Y: 185, W: 1542, H: 256\n",
      "Letra: e, X: 1583, Y: 185, W: 1637, H: 256\n",
      "Letra: e, X: 1583, Y: 194, W: 1840, H: 252\n",
      "Letra: e, X: 1660, Y: 185, W: 1844, H: 256\n",
      "Letra: e, X: 1650, Y: 0, W: 1919, H: 48\n",
      "Letra: e, X: 1836, Y: 0, W: 1876, H: 52\n",
      "Letra: e, X: 1875, Y: 0, W: 1919, H: 52\n"
     ]
    }
   ],
   "source": [
    "for i,b in enumerate (string0.splitlines()):\n",
    "    b = b.split(' ')\n",
    "    letra,x,y,w,h = b[0], int(b[1]), int (b[2]), int (b[3]), int(b[4])\n",
    "    print (f'Letra: {letra}, X: {x}, Y: {y}, W: {w}, H: {h}')\n",
    "    cv2.rectangle(img, (x,imH-y), (w,imH-h), (0,255,0), 1)"
   ]
  },
  {
   "cell_type": "code",
   "execution_count": 54,
   "metadata": {},
   "outputs": [],
   "source": [
    "imageShow(img)"
   ]
  }
 ],
 "metadata": {
  "interpreter": {
   "hash": "15e88d126372a2a88e8348acc28bd7ce56ca34446655609304961cb05a668cc8"
  },
  "kernelspec": {
   "display_name": "Python 3.12.0 64-bit",
   "language": "python",
   "name": "python3"
  },
  "language_info": {
   "codemirror_mode": {
    "name": "ipython",
    "version": 3
   },
   "file_extension": ".py",
   "mimetype": "text/x-python",
   "name": "python",
   "nbconvert_exporter": "python",
   "pygments_lexer": "ipython3",
   "version": "3.12.0"
  },
  "orig_nbformat": 4
 },
 "nbformat": 4,
 "nbformat_minor": 2
}
